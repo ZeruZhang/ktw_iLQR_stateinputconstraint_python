{
 "cells": [
  {
   "cell_type": "code",
   "execution_count": null,
   "metadata": {
    "collapsed": true
   },
   "outputs": [],
   "source": [
    "from __future__ import division\n",
    "import matplotlib.pyplot as plt\n",
    "get_ipython().magic(u'matplotlib inline')\n",
    "import numpy as np\n",
    "import scipy as sp\n",
    "import scipy.linalg\n",
    "import time\n",
    "import random\n",
    "import tensorflow as tf\n",
    "from termcolor import colored\n",
    "def print_np(x):\n",
    "    print (\"Type is %s\" % (type(x)))\n",
    "    print (\"Shape is %s\" % (x.shape,))\n",
    "    print (\"Values are: \\n%s\" % (x))"
   ]
  },
  {
   "cell_type": "code",
   "execution_count": null,
   "metadata": {
    "collapsed": false
   },
   "outputs": [],
   "source": [
    "import model\n",
    "import cost\n",
    "from iLQR import iLQR"
   ]
  },
  {
   "cell_type": "code",
   "execution_count": null,
   "metadata": {
    "collapsed": false
   },
   "outputs": [],
   "source": [
    "x_t = np.zeros(2)\n",
    "x_t[0] = 0.0\n",
    "x_t[1] = 3.0\n",
    "ix = 12\n",
    "iu = 4\n",
    "N = 500\n",
    "myModel = model.quadrotor('Hello')\n",
    "myCost = cost.quadrotor('Hello',x_t,N,myModel)"
   ]
  },
  {
   "cell_type": "code",
   "execution_count": null,
   "metadata": {
    "collapsed": false,
    "scrolled": false
   },
   "outputs": [],
   "source": [
    "maxIterIn = 100\n",
    "maxIterOut = 100\n",
    "\n",
    "x0 = np.zeros(12)\n",
    "x0[0] = -2.0 # -2.0\n",
    "x0[1] = -0.5 # -0.5\n",
    "x0[2] = 1.0\n",
    "x0[5] = 0.0\n",
    "\n",
    "u0 = np.ones((N,iu))\n",
    "i1 = iLQR('unicycle',N,maxIterIn,maxIterOut,myModel,myCost)\n",
    "x, u, Quu_save, Quu_inv_save, L, l, lam, Mu = i1.update(x0,u0)"
   ]
  },
  {
   "cell_type": "code",
   "execution_count": null,
   "metadata": {
    "collapsed": false
   },
   "outputs": [],
   "source": [
    "plt.subplot(131)\n",
    "fS = 18\n",
    "plt.plot(x[:,0], x[:,1], linewidth=2.0)\n",
    "plt.plot(np.linspace(0,3,10),np.linspace(0,3,10))\n",
    "plt.plot(x_t[0],x_t[1],\"o\")\n",
    "plt.gca().set_aspect('equal', adjustable='box')\n",
    "plt.axis([0, 4.0, 0, 4.0])\n",
    "plt.xlabel('X (m)', fontsize = fS)\n",
    "plt.ylabel('Y (m)', fontsize = fS)\n",
    "plt.show()\n",
    "plt.subplot(121)\n",
    "plt.plot(np.array(range(N))*0.1, u[:,0], linewidth=2.0)\n",
    "plt.xlabel('time (s)', fontsize = fS)\n",
    "plt.ylabel('v (m/s)', fontsize = fS)\n",
    "plt.subplot(122)\n",
    "plt.plot(np.array(range(N))*0.1, u[:,1], linewidth=2.0)\n",
    "plt.xlabel('time (s)', fontsize = fS)\n",
    "plt.ylabel('w (rad/s)', fontsize = fS)\n",
    "plt.show()"
   ]
  },
  {
   "cell_type": "code",
   "execution_count": null,
   "metadata": {
    "collapsed": false
   },
   "outputs": [],
   "source": [
    "lam = np.random.rand(3,1,1)\n",
    "print lam\n",
    "ineq_c = np.random.rand(3,1)\n",
    "print ineq_c\n",
    "ineq_c_mat = np.expand_dims(ineq_c,axis=2)\n",
    "print ineq_c_mat\n",
    "print_np( np.squeeze( np.matmul( np.transpose( np.expand_dims(np.diagonal(lam,0,2,1),2),(0,2,1)) , ineq_c_mat)))"
   ]
  },
  {
   "cell_type": "code",
   "execution_count": null,
   "metadata": {
    "collapsed": false
   },
   "outputs": [],
   "source": [
    "0.97520549 * 0.64474434 + 0.10725643 * 0.26363584"
   ]
  },
  {
   "cell_type": "code",
   "execution_count": null,
   "metadata": {
    "collapsed": false
   },
   "outputs": [],
   "source": [
    "A = np.ones((3,1,2))\n",
    "B = np.ones((3,2,1))\n",
    "np.diag\n",
    "Mu = np.tile(np.identity(2),(3,1,1))\n",
    "temp = np.tile(np.identity(2),(3,1,1))\n",
    "print_np(Mu)\n",
    "const = np.random.rand(3,2)\n",
    "flag_const = const < 0.5\n",
    "flag_const1 = const < 0.3\n",
    "print_np(flag_const)\n",
    "print_np(flag_const1)\n",
    "print np.logical_or(flag_const,flag_const1)\n",
    "# cc = np.expand_dims(flag_const,2) * Mu\n",
    "# print cc"
   ]
  },
  {
   "cell_type": "code",
   "execution_count": null,
   "metadata": {
    "collapsed": false,
    "scrolled": false
   },
   "outputs": [],
   "source": [
    "print_np( np.transpose( np.expand_dims(np.diagonal(lam,0,2,1),2),(0,2,1)) )"
   ]
  },
  {
   "cell_type": "code",
   "execution_count": null,
   "metadata": {
    "collapsed": true
   },
   "outputs": [],
   "source": [
    "import antigravity"
   ]
  },
  {
   "cell_type": "code",
   "execution_count": null,
   "metadata": {
    "collapsed": false
   },
   "outputs": [],
   "source": [
    "np.max((np.ones(1),np.ones(1)))"
   ]
  },
  {
   "cell_type": "code",
   "execution_count": null,
   "metadata": {
    "collapsed": false
   },
   "outputs": [],
   "source": [
    "a = np.ones(1)\n",
    "print_np(a)\n",
    "print np.squeeze(a)"
   ]
  },
  {
   "cell_type": "code",
   "execution_count": null,
   "metadata": {
    "collapsed": true
   },
   "outputs": [],
   "source": []
  }
 ],
 "metadata": {
  "kernelspec": {
   "display_name": "Python 2",
   "language": "python",
   "name": "python2"
  },
  "language_info": {
   "codemirror_mode": {
    "name": "ipython",
    "version": 2
   },
   "file_extension": ".py",
   "mimetype": "text/x-python",
   "name": "python",
   "nbconvert_exporter": "python",
   "pygments_lexer": "ipython2",
   "version": "2.7.13"
  }
 },
 "nbformat": 4,
 "nbformat_minor": 0
}
